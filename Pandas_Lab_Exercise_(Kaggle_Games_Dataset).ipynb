{
  "nbformat": 4,
  "nbformat_minor": 0,
  "metadata": {
    "colab": {
      "name": "Pandas_Lab_Exercise_(Kaggle_Games_Dataset).ipynb",
      "provenance": [],
      "collapsed_sections": [],
      "include_colab_link": true
    },
    "kernelspec": {
      "display_name": "Python 3",
      "language": "python",
      "name": "python3"
    }
  },
  "cells": [
    {
      "cell_type": "markdown",
      "metadata": {
        "id": "view-in-github",
        "colab_type": "text"
      },
      "source": [
        "<a href=\"https://colab.research.google.com/github/Aanchal-12/Data-Visualization-using-Python-Great-Learning/blob/main/Pandas_Lab_Exercise_(Kaggle_Games_Dataset).ipynb\" target=\"_parent\"><img src=\"https://colab.research.google.com/assets/colab-badge.svg\" alt=\"Open In Colab\"/></a>"
      ]
    },
    {
      "cell_type": "markdown",
      "metadata": {
        "id": "icyqXlNK39aW"
      },
      "source": [
        "# Pandas Lab Exercise - Solutions\n",
        "\n",
        "\n",
        "## Part - 1\n",
        "We shall now test your skills in using Pandas package. We will be using the [games Dataset](https://www.kaggle.com/gutsyrobot/games-data/data) from Kaggle. \n",
        "\n",
        "Answer each question asked below wrt the games dataset."
      ]
    },
    {
      "cell_type": "markdown",
      "metadata": {
        "id": "NN-M1l8_39aY"
      },
      "source": [
        "**Import pandas as pd.**"
      ]
    },
    {
      "cell_type": "code",
      "metadata": {
        "id": "24lNC-X439aZ"
      },
      "source": [
        "import pandas as pd"
      ],
      "execution_count": 1,
      "outputs": []
    },
    {
      "cell_type": "markdown",
      "metadata": {
        "id": "q6qomEtr39ad"
      },
      "source": [
        "**Read games.csv as a dataframe called games.**"
      ]
    },
    {
      "cell_type": "code",
      "metadata": {
        "id": "R4gGNY5439ae"
      },
      "source": [
        "games = pd.read_csv('games.csv')"
      ],
      "execution_count": 2,
      "outputs": []
    },
    {
      "cell_type": "markdown",
      "metadata": {
        "id": "fy6to3cp39ag"
      },
      "source": [
        "**Check the head of the DataFrame.**"
      ]
    },
    {
      "cell_type": "code",
      "metadata": {
        "id": "oSJXg99E39ah",
        "outputId": "15234f46-0877-4bce-ceb5-0d7eddb8cf00",
        "colab": {
          "base_uri": "https://localhost:8080/",
          "height": 350
        }
      },
      "source": [
        "games.head()"
      ],
      "execution_count": 3,
      "outputs": [
        {
          "output_type": "execute_result",
          "data": {
            "text/html": [
              "<div>\n",
              "<style scoped>\n",
              "    .dataframe tbody tr th:only-of-type {\n",
              "        vertical-align: middle;\n",
              "    }\n",
              "\n",
              "    .dataframe tbody tr th {\n",
              "        vertical-align: top;\n",
              "    }\n",
              "\n",
              "    .dataframe thead th {\n",
              "        text-align: right;\n",
              "    }\n",
              "</style>\n",
              "<table border=\"1\" class=\"dataframe\">\n",
              "  <thead>\n",
              "    <tr style=\"text-align: right;\">\n",
              "      <th></th>\n",
              "      <th>id</th>\n",
              "      <th>type</th>\n",
              "      <th>name</th>\n",
              "      <th>yearpublished</th>\n",
              "      <th>minplayers</th>\n",
              "      <th>maxplayers</th>\n",
              "      <th>playingtime</th>\n",
              "      <th>minplaytime</th>\n",
              "      <th>maxplaytime</th>\n",
              "      <th>minage</th>\n",
              "      <th>users_rated</th>\n",
              "      <th>average_rating</th>\n",
              "      <th>bayes_average_rating</th>\n",
              "      <th>total_owners</th>\n",
              "      <th>total_traders</th>\n",
              "      <th>total_wanters</th>\n",
              "      <th>total_wishers</th>\n",
              "      <th>total_comments</th>\n",
              "      <th>total_weights</th>\n",
              "      <th>average_weight</th>\n",
              "    </tr>\n",
              "  </thead>\n",
              "  <tbody>\n",
              "    <tr>\n",
              "      <th>0</th>\n",
              "      <td>12333</td>\n",
              "      <td>boardgame</td>\n",
              "      <td>Twilight Struggle</td>\n",
              "      <td>2005.0</td>\n",
              "      <td>2.0</td>\n",
              "      <td>2.0</td>\n",
              "      <td>180.0</td>\n",
              "      <td>180.0</td>\n",
              "      <td>180.0</td>\n",
              "      <td>13.0</td>\n",
              "      <td>20113</td>\n",
              "      <td>8.33774</td>\n",
              "      <td>8.22186</td>\n",
              "      <td>26647</td>\n",
              "      <td>372</td>\n",
              "      <td>1219</td>\n",
              "      <td>5865</td>\n",
              "      <td>5347</td>\n",
              "      <td>2562</td>\n",
              "      <td>3.4785</td>\n",
              "    </tr>\n",
              "    <tr>\n",
              "      <th>1</th>\n",
              "      <td>120677</td>\n",
              "      <td>boardgame</td>\n",
              "      <td>Terra Mystica</td>\n",
              "      <td>2012.0</td>\n",
              "      <td>2.0</td>\n",
              "      <td>5.0</td>\n",
              "      <td>150.0</td>\n",
              "      <td>60.0</td>\n",
              "      <td>150.0</td>\n",
              "      <td>12.0</td>\n",
              "      <td>14383</td>\n",
              "      <td>8.28798</td>\n",
              "      <td>8.14232</td>\n",
              "      <td>16519</td>\n",
              "      <td>132</td>\n",
              "      <td>1586</td>\n",
              "      <td>6277</td>\n",
              "      <td>2526</td>\n",
              "      <td>1423</td>\n",
              "      <td>3.8939</td>\n",
              "    </tr>\n",
              "    <tr>\n",
              "      <th>2</th>\n",
              "      <td>102794</td>\n",
              "      <td>boardgame</td>\n",
              "      <td>Caverna: The Cave Farmers</td>\n",
              "      <td>2013.0</td>\n",
              "      <td>1.0</td>\n",
              "      <td>7.0</td>\n",
              "      <td>210.0</td>\n",
              "      <td>30.0</td>\n",
              "      <td>210.0</td>\n",
              "      <td>12.0</td>\n",
              "      <td>9262</td>\n",
              "      <td>8.28994</td>\n",
              "      <td>8.06886</td>\n",
              "      <td>12230</td>\n",
              "      <td>99</td>\n",
              "      <td>1476</td>\n",
              "      <td>5600</td>\n",
              "      <td>1700</td>\n",
              "      <td>777</td>\n",
              "      <td>3.7761</td>\n",
              "    </tr>\n",
              "    <tr>\n",
              "      <th>3</th>\n",
              "      <td>25613</td>\n",
              "      <td>boardgame</td>\n",
              "      <td>Through the Ages: A Story of Civilization</td>\n",
              "      <td>2006.0</td>\n",
              "      <td>2.0</td>\n",
              "      <td>4.0</td>\n",
              "      <td>240.0</td>\n",
              "      <td>240.0</td>\n",
              "      <td>240.0</td>\n",
              "      <td>12.0</td>\n",
              "      <td>13294</td>\n",
              "      <td>8.20407</td>\n",
              "      <td>8.05804</td>\n",
              "      <td>14343</td>\n",
              "      <td>362</td>\n",
              "      <td>1084</td>\n",
              "      <td>5075</td>\n",
              "      <td>3378</td>\n",
              "      <td>1642</td>\n",
              "      <td>4.1590</td>\n",
              "    </tr>\n",
              "    <tr>\n",
              "      <th>4</th>\n",
              "      <td>3076</td>\n",
              "      <td>boardgame</td>\n",
              "      <td>Puerto Rico</td>\n",
              "      <td>2002.0</td>\n",
              "      <td>2.0</td>\n",
              "      <td>5.0</td>\n",
              "      <td>150.0</td>\n",
              "      <td>90.0</td>\n",
              "      <td>150.0</td>\n",
              "      <td>12.0</td>\n",
              "      <td>39883</td>\n",
              "      <td>8.14261</td>\n",
              "      <td>8.04524</td>\n",
              "      <td>44362</td>\n",
              "      <td>795</td>\n",
              "      <td>861</td>\n",
              "      <td>5414</td>\n",
              "      <td>9173</td>\n",
              "      <td>5213</td>\n",
              "      <td>3.2943</td>\n",
              "    </tr>\n",
              "  </tbody>\n",
              "</table>\n",
              "</div>"
            ],
            "text/plain": [
              "       id       type  ... total_weights  average_weight\n",
              "0   12333  boardgame  ...          2562          3.4785\n",
              "1  120677  boardgame  ...          1423          3.8939\n",
              "2  102794  boardgame  ...           777          3.7761\n",
              "3   25613  boardgame  ...          1642          4.1590\n",
              "4    3076  boardgame  ...          5213          3.2943\n",
              "\n",
              "[5 rows x 20 columns]"
            ]
          },
          "metadata": {
            "tags": []
          },
          "execution_count": 3
        }
      ]
    },
    {
      "cell_type": "markdown",
      "metadata": {
        "id": "kchMeESY39aj"
      },
      "source": [
        "**Use .info() method to find out total number of entries in dataset**"
      ]
    },
    {
      "cell_type": "code",
      "metadata": {
        "id": "vqw0iuHE39aj",
        "outputId": "14da8b89-7e8d-4663-a999-53eb08a719aa",
        "colab": {
          "base_uri": "https://localhost:8080/"
        }
      },
      "source": [
        "games.info()"
      ],
      "execution_count": 4,
      "outputs": [
        {
          "output_type": "stream",
          "text": [
            "<class 'pandas.core.frame.DataFrame'>\n",
            "RangeIndex: 81312 entries, 0 to 81311\n",
            "Data columns (total 20 columns):\n",
            " #   Column                Non-Null Count  Dtype  \n",
            "---  ------                --------------  -----  \n",
            " 0   id                    81312 non-null  int64  \n",
            " 1   type                  81312 non-null  object \n",
            " 2   name                  81271 non-null  object \n",
            " 3   yearpublished         81309 non-null  float64\n",
            " 4   minplayers            81309 non-null  float64\n",
            " 5   maxplayers            81309 non-null  float64\n",
            " 6   playingtime           81309 non-null  float64\n",
            " 7   minplaytime           81309 non-null  float64\n",
            " 8   maxplaytime           81309 non-null  float64\n",
            " 9   minage                81309 non-null  float64\n",
            " 10  users_rated           81312 non-null  int64  \n",
            " 11  average_rating        81312 non-null  float64\n",
            " 12  bayes_average_rating  81312 non-null  float64\n",
            " 13  total_owners          81312 non-null  int64  \n",
            " 14  total_traders         81312 non-null  int64  \n",
            " 15  total_wanters         81312 non-null  int64  \n",
            " 16  total_wishers         81312 non-null  int64  \n",
            " 17  total_comments        81312 non-null  int64  \n",
            " 18  total_weights         81312 non-null  int64  \n",
            " 19  average_weight        81312 non-null  float64\n",
            "dtypes: float64(10), int64(8), object(2)\n",
            "memory usage: 12.4+ MB\n"
          ],
          "name": "stdout"
        }
      ]
    },
    {
      "cell_type": "markdown",
      "metadata": {
        "id": "pb_jcBlV39al"
      },
      "source": [
        "**What is the mean playin time for all games put together ?**"
      ]
    },
    {
      "cell_type": "code",
      "metadata": {
        "id": "VlUtAjms39am",
        "outputId": "7f27821e-5f58-4762-c843-27671c056625",
        "colab": {
          "base_uri": "https://localhost:8080/"
        }
      },
      "source": [
        "games['playingtime'].mean()"
      ],
      "execution_count": 5,
      "outputs": [
        {
          "output_type": "execute_result",
          "data": {
            "text/plain": [
              "51.63478827682052"
            ]
          },
          "metadata": {
            "tags": []
          },
          "execution_count": 5
        }
      ]
    },
    {
      "cell_type": "markdown",
      "metadata": {
        "id": "88dyU2NZ39ao"
      },
      "source": [
        "**What is the highest number of comments received for a game?**"
      ]
    },
    {
      "cell_type": "code",
      "metadata": {
        "id": "dsFCrv6B39ap",
        "outputId": "57cf50e3-227d-49ad-de54-ffb62c9fc6c6",
        "colab": {
          "base_uri": "https://localhost:8080/"
        }
      },
      "source": [
        "games['total_comments'].max()"
      ],
      "execution_count": 6,
      "outputs": [
        {
          "output_type": "execute_result",
          "data": {
            "text/plain": [
              "11798"
            ]
          },
          "metadata": {
            "tags": []
          },
          "execution_count": 6
        }
      ]
    },
    {
      "cell_type": "markdown",
      "metadata": {
        "id": "iZ5r64Vl39ar"
      },
      "source": [
        "**What is the name of the game with id 1500?**"
      ]
    },
    {
      "cell_type": "code",
      "metadata": {
        "id": "q-pHJCzG39as",
        "outputId": "7fc7d1cc-9cb1-4dbb-8131-2d5c8533655e",
        "colab": {
          "base_uri": "https://localhost:8080/"
        }
      },
      "source": [
        "games[games['id']==1500]['name']"
      ],
      "execution_count": 7,
      "outputs": [
        {
          "output_type": "execute_result",
          "data": {
            "text/plain": [
              "10592    Zocken\n",
              "Name: name, dtype: object"
            ]
          },
          "metadata": {
            "tags": []
          },
          "execution_count": 7
        }
      ]
    },
    {
      "cell_type": "markdown",
      "metadata": {
        "id": "VXo7npwp39av"
      },
      "source": [
        "**And which year was it published?**"
      ]
    },
    {
      "cell_type": "code",
      "metadata": {
        "id": "u3curcuE39av",
        "outputId": "eb9a3781-21f1-42ec-d36d-ff7f7572dec5",
        "colab": {
          "base_uri": "https://localhost:8080/"
        }
      },
      "source": [
        "games[games['id']==1500]['yearpublished']"
      ],
      "execution_count": 8,
      "outputs": [
        {
          "output_type": "execute_result",
          "data": {
            "text/plain": [
              "10592    1999.0\n",
              "Name: yearpublished, dtype: float64"
            ]
          },
          "metadata": {
            "tags": []
          },
          "execution_count": 8
        }
      ]
    },
    {
      "cell_type": "markdown",
      "metadata": {
        "id": "y3WAIIVq39ay"
      },
      "source": [
        "**Which game has received highest number of comments?**"
      ]
    },
    {
      "cell_type": "code",
      "metadata": {
        "id": "LLR53F5E39az",
        "outputId": "80047398-74a8-4576-fd70-cb8ee62a59c8",
        "colab": {
          "base_uri": "https://localhost:8080/"
        }
      },
      "source": [
        "games[games['total_comments']==games['total_comments'].max()]['name'].unique()"
      ],
      "execution_count": 9,
      "outputs": [
        {
          "output_type": "execute_result",
          "data": {
            "text/plain": [
              "array(['Catan'], dtype=object)"
            ]
          },
          "metadata": {
            "tags": []
          },
          "execution_count": 9
        }
      ]
    },
    {
      "cell_type": "markdown",
      "metadata": {
        "id": "ADSNSu7539a1"
      },
      "source": [
        "**Which games have received least number of comments?**"
      ]
    },
    {
      "cell_type": "code",
      "metadata": {
        "id": "4C2ICmLZ39a2",
        "outputId": "0e246686-1c87-48de-ae90-0bb43d8fbba8",
        "colab": {
          "base_uri": "https://localhost:8080/"
        }
      },
      "source": [
        "games[games['total_comments']==games['total_comments'].min()]['name'].unique()"
      ],
      "execution_count": 10,
      "outputs": [
        {
          "output_type": "execute_result",
          "data": {
            "text/plain": [
              "array(['Looney Leo', 'Dump', 'Field of Fire', ..., 'BEARanoia', 'Freight',\n",
              "       'Bingo Animal Kids'], dtype=object)"
            ]
          },
          "metadata": {
            "tags": []
          },
          "execution_count": 10
        }
      ]
    },
    {
      "cell_type": "markdown",
      "metadata": {
        "id": "kP0A-2EP39a5"
      },
      "source": [
        "**What was the average minage of all games per game \"type\"? (boardgame & boardgameexpansion)**"
      ]
    },
    {
      "cell_type": "code",
      "metadata": {
        "id": "QRganLpp39a6",
        "outputId": "f02922c5-b324-4871-8448-03069188f15f",
        "colab": {
          "base_uri": "https://localhost:8080/"
        }
      },
      "source": [
        "games.groupby('type').mean()['minage']"
      ],
      "execution_count": 11,
      "outputs": [
        {
          "output_type": "execute_result",
          "data": {
            "text/plain": [
              "type\n",
              "boardgame             6.724798\n",
              "boardgameexpansion    8.733321\n",
              "Name: minage, dtype: float64"
            ]
          },
          "metadata": {
            "tags": []
          },
          "execution_count": 11
        }
      ]
    },
    {
      "cell_type": "markdown",
      "metadata": {
        "id": "mX9uNVSB39a9"
      },
      "source": [
        "**How many unique games are there in the dataset?**"
      ]
    },
    {
      "cell_type": "code",
      "metadata": {
        "id": "7z1SNNVX39a-",
        "outputId": "8915d175-7a76-47ed-faa6-34cef3e397ef",
        "colab": {
          "base_uri": "https://localhost:8080/"
        }
      },
      "source": [
        "games['id'].nunique()"
      ],
      "execution_count": 12,
      "outputs": [
        {
          "output_type": "execute_result",
          "data": {
            "text/plain": [
              "79463"
            ]
          },
          "metadata": {
            "tags": []
          },
          "execution_count": 12
        }
      ]
    },
    {
      "cell_type": "markdown",
      "metadata": {
        "id": "yLq2RmmY39bA"
      },
      "source": [
        "**How many boardgames and boardgameexpansions are there in the dataset?**"
      ]
    },
    {
      "cell_type": "code",
      "metadata": {
        "id": "aTorLWJE39bA",
        "outputId": "66cb81cc-56c9-47ca-cebe-9c08c532236f",
        "colab": {
          "base_uri": "https://localhost:8080/"
        }
      },
      "source": [
        "games['type'].value_counts()"
      ],
      "execution_count": 13,
      "outputs": [
        {
          "output_type": "execute_result",
          "data": {
            "text/plain": [
              "boardgame             70820\n",
              "boardgameexpansion    10492\n",
              "Name: type, dtype: int64"
            ]
          },
          "metadata": {
            "tags": []
          },
          "execution_count": 13
        }
      ]
    },
    {
      "cell_type": "markdown",
      "metadata": {
        "id": "eYC0ZVBF39bD"
      },
      "source": [
        "**Is there a correlation between playing time and total comments for the games? - Use the .corr() function**"
      ]
    },
    {
      "cell_type": "code",
      "metadata": {
        "id": "2Trn1FuW39bE",
        "outputId": "56f5f9f3-088b-428b-89b3-735d9fa17eb0",
        "colab": {
          "base_uri": "https://localhost:8080/",
          "height": 106
        }
      },
      "source": [
        "games[['playingtime', 'total_comments']].corr()"
      ],
      "execution_count": 14,
      "outputs": [
        {
          "output_type": "execute_result",
          "data": {
            "text/html": [
              "<div>\n",
              "<style scoped>\n",
              "    .dataframe tbody tr th:only-of-type {\n",
              "        vertical-align: middle;\n",
              "    }\n",
              "\n",
              "    .dataframe tbody tr th {\n",
              "        vertical-align: top;\n",
              "    }\n",
              "\n",
              "    .dataframe thead th {\n",
              "        text-align: right;\n",
              "    }\n",
              "</style>\n",
              "<table border=\"1\" class=\"dataframe\">\n",
              "  <thead>\n",
              "    <tr style=\"text-align: right;\">\n",
              "      <th></th>\n",
              "      <th>playingtime</th>\n",
              "      <th>total_comments</th>\n",
              "    </tr>\n",
              "  </thead>\n",
              "  <tbody>\n",
              "    <tr>\n",
              "      <th>playingtime</th>\n",
              "      <td>1.000000</td>\n",
              "      <td>0.020645</td>\n",
              "    </tr>\n",
              "    <tr>\n",
              "      <th>total_comments</th>\n",
              "      <td>0.020645</td>\n",
              "      <td>1.000000</td>\n",
              "    </tr>\n",
              "  </tbody>\n",
              "</table>\n",
              "</div>"
            ],
            "text/plain": [
              "                playingtime  total_comments\n",
              "playingtime        1.000000        0.020645\n",
              "total_comments     0.020645        1.000000"
            ]
          },
          "metadata": {
            "tags": []
          },
          "execution_count": 14
        }
      ]
    },
    {
      "cell_type": "markdown",
      "metadata": {
        "id": "wI1-ePur39bH"
      },
      "source": [
        "## Part 2\n",
        "## Inferential Statistical Analysis\n",
        "\n",
        "A Brand new Gaming Design Company has entered the Market in year 2015. They are interested in Analyzing the Amount of Time Gamers spend for each Game Type and check if the players spend equal Time on both Types.\n",
        "\n",
        "Analyze the same using a suitable Two Sample Test at 95% Confidence.\n",
        "\n",
        "The following points are necessarily to be adhered.\n",
        "\n",
        "  - Clean Data\n",
        "  - Transform Data(as required)\n",
        "  - Visualize Data(Draw as many patterns, not limited to Histograms & Boxplots only) - Minimum Requirement of 5 different Visualizations apart from Histograms & Boxplots to be created.\n",
        "  - Model the Data with the correct hypothesis statement\n",
        "  - Conclude on your results based on the outcome of experiment\n",
        "  - Calculate power of test and interpret the same\n",
        "  \n",
        " "
      ]
    },
    {
      "cell_type": "markdown",
      "metadata": {
        "id": "Y8ENmKHwE8x6"
      },
      "source": [
        "**Import the seaborn library and set the color codes as true**"
      ]
    },
    {
      "cell_type": "code",
      "metadata": {
        "id": "SUBGM8w8EvjT"
      },
      "source": [
        "import seaborn as sns\n",
        "sns.set_color_code= True\n",
        "import matplotlib.pyplot as plt\n",
        "%matplotlib inline"
      ],
      "execution_count": 15,
      "outputs": []
    },
    {
      "cell_type": "markdown",
      "metadata": {
        "id": "RQzMxa-nFJ1Y"
      },
      "source": [
        "**Drop na values for negating issues during visualization**"
      ]
    },
    {
      "cell_type": "code",
      "metadata": {
        "id": "Ho-N_lrHFH85"
      },
      "source": [
        "games.dropna(inplace=True)"
      ],
      "execution_count": 16,
      "outputs": []
    },
    {
      "cell_type": "code",
      "metadata": {
        "id": "uRrixdxEFdAI",
        "outputId": "305f2e92-9c62-4fb3-e5bd-8fd2228396ed",
        "colab": {
          "base_uri": "https://localhost:8080/"
        }
      },
      "source": [
        "games.info()"
      ],
      "execution_count": 17,
      "outputs": [
        {
          "output_type": "stream",
          "text": [
            "<class 'pandas.core.frame.DataFrame'>\n",
            "Int64Index: 81268 entries, 0 to 81311\n",
            "Data columns (total 20 columns):\n",
            " #   Column                Non-Null Count  Dtype  \n",
            "---  ------                --------------  -----  \n",
            " 0   id                    81268 non-null  int64  \n",
            " 1   type                  81268 non-null  object \n",
            " 2   name                  81268 non-null  object \n",
            " 3   yearpublished         81268 non-null  float64\n",
            " 4   minplayers            81268 non-null  float64\n",
            " 5   maxplayers            81268 non-null  float64\n",
            " 6   playingtime           81268 non-null  float64\n",
            " 7   minplaytime           81268 non-null  float64\n",
            " 8   maxplaytime           81268 non-null  float64\n",
            " 9   minage                81268 non-null  float64\n",
            " 10  users_rated           81268 non-null  int64  \n",
            " 11  average_rating        81268 non-null  float64\n",
            " 12  bayes_average_rating  81268 non-null  float64\n",
            " 13  total_owners          81268 non-null  int64  \n",
            " 14  total_traders         81268 non-null  int64  \n",
            " 15  total_wanters         81268 non-null  int64  \n",
            " 16  total_wishers         81268 non-null  int64  \n",
            " 17  total_comments        81268 non-null  int64  \n",
            " 18  total_weights         81268 non-null  int64  \n",
            " 19  average_weight        81268 non-null  float64\n",
            "dtypes: float64(10), int64(8), object(2)\n",
            "memory usage: 13.0+ MB\n"
          ],
          "name": "stdout"
        }
      ]
    },
    {
      "cell_type": "markdown",
      "metadata": {
        "id": "ISaho4utFSXO"
      },
      "source": [
        "**View the distance plot for minage**"
      ]
    },
    {
      "cell_type": "code",
      "metadata": {
        "id": "KNbMDlVoFbaK",
        "outputId": "03c396a1-7eb9-4c57-b91a-7b7f277638ad",
        "colab": {
          "base_uri": "https://localhost:8080/",
          "height": 350
        }
      },
      "source": [
        "sns.distplot(games['average_rating'])"
      ],
      "execution_count": 18,
      "outputs": [
        {
          "output_type": "stream",
          "text": [
            "/usr/local/lib/python3.6/dist-packages/seaborn/distributions.py:2551: FutureWarning: `distplot` is a deprecated function and will be removed in a future version. Please adapt your code to use either `displot` (a figure-level function with similar flexibility) or `histplot` (an axes-level function for histograms).\n",
            "  warnings.warn(msg, FutureWarning)\n"
          ],
          "name": "stderr"
        },
        {
          "output_type": "execute_result",
          "data": {
            "text/plain": [
              "<matplotlib.axes._subplots.AxesSubplot at 0x7f2f69521c50>"
            ]
          },
          "metadata": {
            "tags": []
          },
          "execution_count": 18
        },
        {
          "output_type": "display_data",
          "data": {
            "image/png": "[encoded data removed]",
            "text/plain": [
              "<Figure size 432x288 with 1 Axes>"
            ]
          },
          "metadata": {
            "tags": [],
            "needs_background": "light"
          }
        }
      ]
    },
    {
      "cell_type": "markdown",
      "metadata": {
        "id": "yf67Ly8QFreq"
      },
      "source": [
        "**Is there a linear relationship between minage and average rating?**"
      ]
    },
    {
      "cell_type": "code",
      "metadata": {
        "id": "Mj1zOEIUGDYt",
        "outputId": "a57e8d3c-d20c-4d93-8944-d18849d4b9c2",
        "colab": {
          "base_uri": "https://localhost:8080/",
          "height": 458
        }
      },
      "source": [
        "sns.jointplot(x=games['minage'], y= games['average_rating'])\n",
        "#very low correlation"
      ],
      "execution_count": 19,
      "outputs": [
        {
          "output_type": "execute_result",
          "data": {
            "text/plain": [
              "<seaborn.axisgrid.JointGrid at 0x7f2f66c018d0>"
            ]
          },
          "metadata": {
            "tags": []
          },
          "execution_count": 19
        },
        {
          "output_type": "display_data",
          "data": {
            "image/png": "[encoded data removed]",
            "text/plain": [
              "<Figure size 432x432 with 3 Axes>"
            ]
          },
          "metadata": {
            "tags": [],
            "needs_background": "light"
          }
        }
      ]
    },
    {
      "cell_type": "markdown",
      "metadata": {
        "id": "xcUMw__LGU6y"
      },
      "source": [
        "**Compare the relationship between playingtime, minage and average rating using pairplot**"
      ]
    },
    {
      "cell_type": "code",
      "metadata": {
        "id": "8Er4X3qgHupU",
        "outputId": "922f6ebf-3641-4ce7-92a8-dcba1d3c6e31",
        "colab": {
          "base_uri": "https://localhost:8080/",
          "height": 550
        }
      },
      "source": [
        "sns.pairplot(games[['playingtime', 'minage', 'average_rating']])\n",
        "plt.show()"
      ],
      "execution_count": 22,
      "outputs": [
        {
          "output_type": "display_data",
          "data": {
            "image/png": "[encoded data removed]",
            "text/plain": [
              "<Figure size 540x540 with 12 Axes>"
            ]
          },
          "metadata": {
            "tags": [],
            "needs_background": "light"
          }
        }
      ]
    },
    {
      "cell_type": "markdown",
      "metadata": {
        "id": "uP4peyWhIJvC"
      },
      "source": [
        "**Compare type of game and playingtime using stripplot**"
      ]
    },
    {
      "cell_type": "code",
      "metadata": {
        "id": "JRQS2J5AH_3A",
        "outputId": "fa1dbc48-b0ef-4c35-c9eb-8ee419bb49e0",
        "colab": {
          "base_uri": "https://localhost:8080/",
          "height": 350
        }
      },
      "source": [
        "sns.stripplot(games['type'], games['playingtime'], jitter=True)"
      ],
      "execution_count": 20,
      "outputs": [
        {
          "output_type": "stream",
          "text": [
            "/usr/local/lib/python3.6/dist-packages/seaborn/_decorators.py:43: FutureWarning: Pass the following variables as keyword args: x, y. From version 0.12, the only valid positional argument will be `data`, and passing other arguments without an explicit keyword will result in an error or misinterpretation.\n",
            "  FutureWarning\n"
          ],
          "name": "stderr"
        },
        {
          "output_type": "execute_result",
          "data": {
            "text/plain": [
              "<matplotlib.axes._subplots.AxesSubplot at 0x7f2f6947d438>"
            ]
          },
          "metadata": {
            "tags": []
          },
          "execution_count": 20
        },
        {
          "output_type": "display_data",
          "data": {
            "image/png": "[encoded data removed]",
            "text/plain": [
              "<Figure size 432x288 with 1 Axes>"
            ]
          },
          "metadata": {
            "tags": [],
            "needs_background": "light"
          }
        }
      ]
    },
    {
      "cell_type": "markdown",
      "metadata": {
        "id": "LE0S399DIjYp"
      },
      "source": [
        "**Analyze the linear trend between playing time(less than 500 mins) and average rating received for the same**"
      ]
    },
    {
      "cell_type": "code",
      "metadata": {
        "id": "GbynRTivIt4k",
        "outputId": "33ec5ff1-24df-4a3c-927f-04b705764117",
        "colab": {
          "base_uri": "https://localhost:8080/",
          "height": 296
        }
      },
      "source": [
        "sns.regplot(x='playingtime', y='average_rating', data=games[games['playingtime']<500])"
      ],
      "execution_count": 21,
      "outputs": [
        {
          "output_type": "execute_result",
          "data": {
            "text/plain": [
              "<matplotlib.axes._subplots.AxesSubplot at 0x7f2f6649d588>"
            ]
          },
          "metadata": {
            "tags": []
          },
          "execution_count": 21
        },
        {
          "output_type": "display_data",
          "data": {
            "image/png": "[encoded data removed]",
            "text/plain": [
              "<Figure size 432x288 with 1 Axes>"
            ]
          },
          "metadata": {
            "tags": [],
            "needs_background": "light"
          }
        }
      ]
    },
    {
      "cell_type": "markdown",
      "metadata": {
        "id": "lSG_Prn-Fbuf"
      },
      "source": [
        ""
      ]
    },
    {
      "cell_type": "markdown",
      "metadata": {
        "id": "cpz0KHUR39bI"
      },
      "source": [
        "### The END"
      ]
    }
  ]
}