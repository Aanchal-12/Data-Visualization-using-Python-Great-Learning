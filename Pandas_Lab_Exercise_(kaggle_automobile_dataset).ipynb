{
  "nbformat": 4,
  "nbformat_minor": 0,
  "metadata": {
    "kernelspec": {
      "display_name": "Python 2",
      "language": "python",
      "name": "python2"
    },
    "language_info": {
      "codemirror_mode": {
        "name": "ipython",
        "version": 2
      },
      "file_extension": ".py",
      "mimetype": "text/x-python",
      "name": "python",
      "nbconvert_exporter": "python",
      "pygments_lexer": "ipython2",
      "version": "2.7.15"
    },
    "colab": {
      "name": "Pandas Lab Exercise (kaggle automobile dataset).ipynb",
      "provenance": [],
      "collapsed_sections": [],
      "include_colab_link": true
    }
  },
  "cells": [
    {
      "cell_type": "markdown",
      "metadata": {
        "id": "view-in-github",
        "colab_type": "text"
      },
      "source": [
        "<a href=\"https://colab.research.google.com/github/Aanchal-12/Data-Visualization-using-Python-Great-Learning/blob/main/Pandas_Lab_Exercise_(kaggle_automobile_dataset).ipynb\" target=\"_parent\"><img src=\"https://colab.research.google.com/assets/colab-badge.svg\" alt=\"Open In Colab\"/></a>"
      ]
    },
    {
      "cell_type": "markdown",
      "metadata": {
        "id": "UbGp33eY741p"
      },
      "source": [
        "## Pandas Lab Exercise (Kaggle Automobile Dataset)\n",
        "\n",
        "We shall now test your skills in using Pandas package. We will be using the [automobiles Dataset](https://www.kaggle.com/nisargpatel/automobiles/data) from Kaggle. \n",
        "\n",
        "Answer each question asked below wrt the automobiles dataset. Load pandas as pd and upload the Automobile.csv file as auto"
      ]
    },
    {
      "cell_type": "code",
      "metadata": {
        "id": "PBlq1VGW741u"
      },
      "source": [
        "import pandas as pd"
      ],
      "execution_count": 1,
      "outputs": []
    },
    {
      "cell_type": "markdown",
      "metadata": {
        "id": "DaOkloFo741z"
      },
      "source": [
        "**Load the Automobile dataset into variable \"auto\"**"
      ]
    },
    {
      "cell_type": "code",
      "metadata": {
        "id": "SbgXY9P67410"
      },
      "source": [
        "auto = pd.read_csv('Automobile.csv')"
      ],
      "execution_count": 2,
      "outputs": []
    },
    {
      "cell_type": "markdown",
      "metadata": {
        "id": "Ojz2p4tA7412"
      },
      "source": [
        "**Check the head of the DataFrame.**"
      ]
    },
    {
      "cell_type": "code",
      "metadata": {
        "id": "SkS94Img7413",
        "outputId": "94929b1c-b6c3-4e3b-e96f-96f32f7dfc3c",
        "colab": {
          "base_uri": "https://localhost:8080/",
          "height": 294
        }
      },
      "source": [
        "auto.head()"
      ],
      "execution_count": 3,
      "outputs": [
        {
          "output_type": "execute_result",
          "data": {
            "text/plain": [
              "   symboling  normalized_losses         make fuel_type aspiration  \\\n",
              "0          3                168  alfa-romero       gas        std   \n",
              "1          3                168  alfa-romero       gas        std   \n",
              "2          1                168  alfa-romero       gas        std   \n",
              "3          2                164         audi       gas        std   \n",
              "4          2                164         audi       gas        std   \n",
              "\n",
              "  number_of_doors   body_style drive_wheels engine_location  wheel_base  ...  \\\n",
              "0             two  convertible          rwd           front        88.6  ...   \n",
              "1             two  convertible          rwd           front        88.6  ...   \n",
              "2             two    hatchback          rwd           front        94.5  ...   \n",
              "3            four        sedan          fwd           front        99.8  ...   \n",
              "4            four        sedan          4wd           front        99.4  ...   \n",
              "\n",
              "   engine_size  fuel_system  bore  stroke compression_ratio horsepower  \\\n",
              "0          130         mpfi  3.47    2.68               9.0        111   \n",
              "1          130         mpfi  3.47    2.68               9.0        111   \n",
              "2          152         mpfi  2.68    3.47               9.0        154   \n",
              "3          109         mpfi  3.19    3.40              10.0        102   \n",
              "4          136         mpfi  3.19    3.40               8.0        115   \n",
              "\n",
              "   peak_rpm city_mpg  highway_mpg  price  \n",
              "0      5000       21           27  13495  \n",
              "1      5000       21           27  16500  \n",
              "2      5000       19           26  16500  \n",
              "3      5500       24           30  13950  \n",
              "4      5500       18           22  17450  \n",
              "\n",
              "[5 rows x 26 columns]"
            ],
            "text/html": [
              "<div>\n",
              "<style scoped>\n",
              "    .dataframe tbody tr th:only-of-type {\n",
              "        vertical-align: middle;\n",
              "    }\n",
              "\n",
              "    .dataframe tbody tr th {\n",
              "        vertical-align: top;\n",
              "    }\n",
              "\n",
              "    .dataframe thead th {\n",
              "        text-align: right;\n",
              "    }\n",
              "</style>\n",
              "<table border=\"1\" class=\"dataframe\">\n",
              "  <thead>\n",
              "    <tr style=\"text-align: right;\">\n",
              "      <th></th>\n",
              "      <th>symboling</th>\n",
              "      <th>normalized_losses</th>\n",
              "      <th>make</th>\n",
              "      <th>fuel_type</th>\n",
              "      <th>aspiration</th>\n",
              "      <th>number_of_doors</th>\n",
              "      <th>body_style</th>\n",
              "      <th>drive_wheels</th>\n",
              "      <th>engine_location</th>\n",
              "      <th>wheel_base</th>\n",
              "      <th>...</th>\n",
              "      <th>engine_size</th>\n",
              "      <th>fuel_system</th>\n",
              "      <th>bore</th>\n",
              "      <th>stroke</th>\n",
              "      <th>compression_ratio</th>\n",
              "      <th>horsepower</th>\n",
              "      <th>peak_rpm</th>\n",
              "      <th>city_mpg</th>\n",
              "      <th>highway_mpg</th>\n",
              "      <th>price</th>\n",
              "    </tr>\n",
              "  </thead>\n",
              "  <tbody>\n",
              "    <tr>\n",
              "      <th>0</th>\n",
              "      <td>3</td>\n",
              "      <td>168</td>\n",
              "      <td>alfa-romero</td>\n",
              "      <td>gas</td>\n",
              "      <td>std</td>\n",
              "      <td>two</td>\n",
              "      <td>convertible</td>\n",
              "      <td>rwd</td>\n",
              "      <td>front</td>\n",
              "      <td>88.6</td>\n",
              "      <td>...</td>\n",
              "      <td>130</td>\n",
              "      <td>mpfi</td>\n",
              "      <td>3.47</td>\n",
              "      <td>2.68</td>\n",
              "      <td>9.0</td>\n",
              "      <td>111</td>\n",
              "      <td>5000</td>\n",
              "      <td>21</td>\n",
              "      <td>27</td>\n",
              "      <td>13495</td>\n",
              "    </tr>\n",
              "    <tr>\n",
              "      <th>1</th>\n",
              "      <td>3</td>\n",
              "      <td>168</td>\n",
              "      <td>alfa-romero</td>\n",
              "      <td>gas</td>\n",
              "      <td>std</td>\n",
              "      <td>two</td>\n",
              "      <td>convertible</td>\n",
              "      <td>rwd</td>\n",
              "      <td>front</td>\n",
              "      <td>88.6</td>\n",
              "      <td>...</td>\n",
              "      <td>130</td>\n",
              "      <td>mpfi</td>\n",
              "      <td>3.47</td>\n",
              "      <td>2.68</td>\n",
              "      <td>9.0</td>\n",
              "      <td>111</td>\n",
              "      <td>5000</td>\n",
              "      <td>21</td>\n",
              "      <td>27</td>\n",
              "      <td>16500</td>\n",
              "    </tr>\n",
              "    <tr>\n",
              "      <th>2</th>\n",
              "      <td>1</td>\n",
              "      <td>168</td>\n",
              "      <td>alfa-romero</td>\n",
              "      <td>gas</td>\n",
              "      <td>std</td>\n",
              "      <td>two</td>\n",
              "      <td>hatchback</td>\n",
              "      <td>rwd</td>\n",
              "      <td>front</td>\n",
              "      <td>94.5</td>\n",
              "      <td>...</td>\n",
              "      <td>152</td>\n",
              "      <td>mpfi</td>\n",
              "      <td>2.68</td>\n",
              "      <td>3.47</td>\n",
              "      <td>9.0</td>\n",
              "      <td>154</td>\n",
              "      <td>5000</td>\n",
              "      <td>19</td>\n",
              "      <td>26</td>\n",
              "      <td>16500</td>\n",
              "    </tr>\n",
              "    <tr>\n",
              "      <th>3</th>\n",
              "      <td>2</td>\n",
              "      <td>164</td>\n",
              "      <td>audi</td>\n",
              "      <td>gas</td>\n",
              "      <td>std</td>\n",
              "      <td>four</td>\n",
              "      <td>sedan</td>\n",
              "      <td>fwd</td>\n",
              "      <td>front</td>\n",
              "      <td>99.8</td>\n",
              "      <td>...</td>\n",
              "      <td>109</td>\n",
              "      <td>mpfi</td>\n",
              "      <td>3.19</td>\n",
              "      <td>3.40</td>\n",
              "      <td>10.0</td>\n",
              "      <td>102</td>\n",
              "      <td>5500</td>\n",
              "      <td>24</td>\n",
              "      <td>30</td>\n",
              "      <td>13950</td>\n",
              "    </tr>\n",
              "    <tr>\n",
              "      <th>4</th>\n",
              "      <td>2</td>\n",
              "      <td>164</td>\n",
              "      <td>audi</td>\n",
              "      <td>gas</td>\n",
              "      <td>std</td>\n",
              "      <td>four</td>\n",
              "      <td>sedan</td>\n",
              "      <td>4wd</td>\n",
              "      <td>front</td>\n",
              "      <td>99.4</td>\n",
              "      <td>...</td>\n",
              "      <td>136</td>\n",
              "      <td>mpfi</td>\n",
              "      <td>3.19</td>\n",
              "      <td>3.40</td>\n",
              "      <td>8.0</td>\n",
              "      <td>115</td>\n",
              "      <td>5500</td>\n",
              "      <td>18</td>\n",
              "      <td>22</td>\n",
              "      <td>17450</td>\n",
              "    </tr>\n",
              "  </tbody>\n",
              "</table>\n",
              "<p>5 rows × 26 columns</p>\n",
              "</div>"
            ]
          },
          "metadata": {
            "tags": []
          },
          "execution_count": 3
        }
      ]
    },
    {
      "cell_type": "markdown",
      "metadata": {
        "id": "L1Hzw3tB7416"
      },
      "source": [
        "**How many rows and columns are there?**"
      ]
    },
    {
      "cell_type": "code",
      "metadata": {
        "id": "wVRt3ZKM7416",
        "outputId": "b48da0eb-5a24-45bc-d673-a59a429b0d60",
        "colab": {
          "base_uri": "https://localhost:8080/"
        }
      },
      "source": [
        "auto.shape"
      ],
      "execution_count": 5,
      "outputs": [
        {
          "output_type": "execute_result",
          "data": {
            "text/plain": [
              "(201, 26)"
            ]
          },
          "metadata": {
            "tags": []
          },
          "execution_count": 5
        }
      ]
    },
    {
      "cell_type": "code",
      "metadata": {
        "id": "yq-n7WTn83lo",
        "outputId": "9bd07a59-1979-4879-9137-efb21b969d93",
        "colab": {
          "base_uri": "https://localhost:8080/"
        }
      },
      "source": [
        "auto.info()"
      ],
      "execution_count": 15,
      "outputs": [
        {
          "output_type": "stream",
          "text": [
            "<class 'pandas.core.frame.DataFrame'>\n",
            "RangeIndex: 201 entries, 0 to 200\n",
            "Data columns (total 26 columns):\n",
            "symboling              201 non-null int64\n",
            "normalized_losses      201 non-null int64\n",
            "make                   201 non-null object\n",
            "fuel_type              201 non-null object\n",
            "aspiration             201 non-null object\n",
            "number_of_doors        201 non-null object\n",
            "body_style             201 non-null object\n",
            "drive_wheels           201 non-null object\n",
            "engine_location        201 non-null object\n",
            "wheel_base             201 non-null float64\n",
            "length                 201 non-null float64\n",
            "width                  201 non-null float64\n",
            "height                 201 non-null float64\n",
            "curb_weight            201 non-null int64\n",
            "engine_type            201 non-null object\n",
            "number_of_cylinders    201 non-null object\n",
            "engine_size            201 non-null int64\n",
            "fuel_system            201 non-null object\n",
            "bore                   201 non-null float64\n",
            "stroke                 201 non-null float64\n",
            "compression_ratio      201 non-null float64\n",
            "horsepower             201 non-null int64\n",
            "peak_rpm               201 non-null int64\n",
            "city_mpg               201 non-null int64\n",
            "highway_mpg            201 non-null int64\n",
            "price                  201 non-null int64\n",
            "dtypes: float64(7), int64(9), object(10)\n",
            "memory usage: 40.9+ KB\n"
          ],
          "name": "stdout"
        }
      ]
    },
    {
      "cell_type": "markdown",
      "metadata": {
        "id": "ddFGs8707419"
      },
      "source": [
        "**What is the average Price of all cars in the dataset?**"
      ]
    },
    {
      "cell_type": "code",
      "metadata": {
        "id": "hl4I6xd-7419",
        "outputId": "49ef1721-b305-4029-d5cb-0952c0ff548a",
        "colab": {
          "base_uri": "https://localhost:8080/"
        }
      },
      "source": [
        "auto['price'].mean()"
      ],
      "execution_count": 10,
      "outputs": [
        {
          "output_type": "execute_result",
          "data": {
            "text/plain": [
              "13207.129353233831"
            ]
          },
          "metadata": {
            "tags": []
          },
          "execution_count": 10
        }
      ]
    },
    {
      "cell_type": "markdown",
      "metadata": {
        "id": "zdJWY8G2742A"
      },
      "source": [
        "**Which is the cheapest make and costliest make of car in the lot?**"
      ]
    },
    {
      "cell_type": "code",
      "metadata": {
        "id": "rC_xmcM7742A",
        "outputId": "2cb6c3d9-8ea0-4031-b528-c0dbf77411ef",
        "colab": {
          "base_uri": "https://localhost:8080/"
        }
      },
      "source": [
        "auto[auto['price']==auto['price'].min()]['make']"
      ],
      "execution_count": 22,
      "outputs": [
        {
          "output_type": "execute_result",
          "data": {
            "text/plain": [
              "134    subaru\n",
              "Name: make, dtype: object"
            ]
          },
          "metadata": {
            "tags": []
          },
          "execution_count": 22
        }
      ]
    },
    {
      "cell_type": "code",
      "metadata": {
        "id": "bxoYL21Y742D",
        "outputId": "b0928a0e-976f-44d8-b294-205ae633a1d9",
        "colab": {
          "base_uri": "https://localhost:8080/"
        }
      },
      "source": [
        "auto[auto['price']==auto['price'].max()]['make']"
      ],
      "execution_count": 23,
      "outputs": [
        {
          "output_type": "execute_result",
          "data": {
            "text/plain": [
              "71    mercedes-benz\n",
              "Name: make, dtype: object"
            ]
          },
          "metadata": {
            "tags": []
          },
          "execution_count": 23
        }
      ]
    },
    {
      "cell_type": "markdown",
      "metadata": {
        "id": "xMvmHC-N742F"
      },
      "source": [
        "**How many cars have horsepower greater than 100?**"
      ]
    },
    {
      "cell_type": "code",
      "metadata": {
        "id": "TiVs0ipq742G",
        "outputId": "02f7760f-7464-4def-a586-924e179d811c",
        "colab": {
          "base_uri": "https://localhost:8080/"
        }
      },
      "source": [
        "auto[auto['horsepower']>100].count()"
      ],
      "execution_count": 25,
      "outputs": [
        {
          "output_type": "execute_result",
          "data": {
            "text/plain": [
              "symboling              90\n",
              "normalized_losses      90\n",
              "make                   90\n",
              "fuel_type              90\n",
              "aspiration             90\n",
              "number_of_doors        90\n",
              "body_style             90\n",
              "drive_wheels           90\n",
              "engine_location        90\n",
              "wheel_base             90\n",
              "length                 90\n",
              "width                  90\n",
              "height                 90\n",
              "curb_weight            90\n",
              "engine_type            90\n",
              "number_of_cylinders    90\n",
              "engine_size            90\n",
              "fuel_system            90\n",
              "bore                   90\n",
              "stroke                 90\n",
              "compression_ratio      90\n",
              "horsepower             90\n",
              "peak_rpm               90\n",
              "city_mpg               90\n",
              "highway_mpg            90\n",
              "price                  90\n",
              "dtype: int64"
            ]
          },
          "metadata": {
            "tags": []
          },
          "execution_count": 25
        }
      ]
    },
    {
      "cell_type": "markdown",
      "metadata": {
        "id": "BxCVZJNC742I"
      },
      "source": [
        "**How many hatchback cars are in the dataset ?**"
      ]
    },
    {
      "cell_type": "code",
      "metadata": {
        "id": "9LrFtDpF742J",
        "outputId": "df705384-2eb6-4b38-d511-3312cfe8c4e2",
        "colab": {
          "base_uri": "https://localhost:8080/"
        }
      },
      "source": [
        "auto[auto['body_style']=='hatchback'].count()"
      ],
      "execution_count": 27,
      "outputs": [
        {
          "output_type": "execute_result",
          "data": {
            "text/plain": [
              "symboling              68\n",
              "normalized_losses      68\n",
              "make                   68\n",
              "fuel_type              68\n",
              "aspiration             68\n",
              "number_of_doors        68\n",
              "body_style             68\n",
              "drive_wheels           68\n",
              "engine_location        68\n",
              "wheel_base             68\n",
              "length                 68\n",
              "width                  68\n",
              "height                 68\n",
              "curb_weight            68\n",
              "engine_type            68\n",
              "number_of_cylinders    68\n",
              "engine_size            68\n",
              "fuel_system            68\n",
              "bore                   68\n",
              "stroke                 68\n",
              "compression_ratio      68\n",
              "horsepower             68\n",
              "peak_rpm               68\n",
              "city_mpg               68\n",
              "highway_mpg            68\n",
              "price                  68\n",
              "dtype: int64"
            ]
          },
          "metadata": {
            "tags": []
          },
          "execution_count": 27
        }
      ]
    },
    {
      "cell_type": "code",
      "metadata": {
        "id": "nbr6QnTL-KmC",
        "outputId": "485d46bb-0101-4842-b28f-7f6ac0a7bab1",
        "colab": {
          "base_uri": "https://localhost:8080/"
        }
      },
      "source": [
        "auto[auto['body_style']=='hatchback'].info()"
      ],
      "execution_count": 28,
      "outputs": [
        {
          "output_type": "stream",
          "text": [
            "<class 'pandas.core.frame.DataFrame'>\n",
            "Int64Index: 68 entries, 2 to 186\n",
            "Data columns (total 26 columns):\n",
            "symboling              68 non-null int64\n",
            "normalized_losses      68 non-null int64\n",
            "make                   68 non-null object\n",
            "fuel_type              68 non-null object\n",
            "aspiration             68 non-null object\n",
            "number_of_doors        68 non-null object\n",
            "body_style             68 non-null object\n",
            "drive_wheels           68 non-null object\n",
            "engine_location        68 non-null object\n",
            "wheel_base             68 non-null float64\n",
            "length                 68 non-null float64\n",
            "width                  68 non-null float64\n",
            "height                 68 non-null float64\n",
            "curb_weight            68 non-null int64\n",
            "engine_type            68 non-null object\n",
            "number_of_cylinders    68 non-null object\n",
            "engine_size            68 non-null int64\n",
            "fuel_system            68 non-null object\n",
            "bore                   68 non-null float64\n",
            "stroke                 68 non-null float64\n",
            "compression_ratio      68 non-null float64\n",
            "horsepower             68 non-null int64\n",
            "peak_rpm               68 non-null int64\n",
            "city_mpg               68 non-null int64\n",
            "highway_mpg            68 non-null int64\n",
            "price                  68 non-null int64\n",
            "dtypes: float64(7), int64(9), object(10)\n",
            "memory usage: 14.3+ KB\n"
          ],
          "name": "stdout"
        }
      ]
    },
    {
      "cell_type": "markdown",
      "metadata": {
        "id": "BRLWunmC742L"
      },
      "source": [
        "**What are the 3 most commonly found cars in the dataset?**"
      ]
    },
    {
      "cell_type": "code",
      "metadata": {
        "id": "kS4gRLhB742M",
        "outputId": "0d7bb2f6-0ef5-4793-e309-b6953bd6dd67",
        "colab": {
          "base_uri": "https://localhost:8080/"
        }
      },
      "source": [
        "auto['make'].unique()"
      ],
      "execution_count": 30,
      "outputs": [
        {
          "output_type": "execute_result",
          "data": {
            "text/plain": [
              "array(['alfa-romero', 'audi', 'bmw', 'chevrolet', 'dodge', 'honda',\n",
              "       'isuzu', 'jaguar', 'mazda', 'mercedes-benz', 'mercury',\n",
              "       'mitsubishi', 'nissan', 'peugot', 'plymouth', 'porsche', 'renault',\n",
              "       'saab', 'subaru', 'toyota', 'volkswagen', 'volvo'], dtype=object)"
            ]
          },
          "metadata": {
            "tags": []
          },
          "execution_count": 30
        }
      ]
    },
    {
      "cell_type": "code",
      "metadata": {
        "id": "Js2slKSz-Z3T",
        "outputId": "2d9d8d27-d20e-4a74-d774-b2aa8a433321",
        "colab": {
          "base_uri": "https://localhost:8080/"
        }
      },
      "source": [
        "auto['make'].value_counts().head(3)"
      ],
      "execution_count": 33,
      "outputs": [
        {
          "output_type": "execute_result",
          "data": {
            "text/plain": [
              "toyota    32\n",
              "nissan    18\n",
              "mazda     17\n",
              "Name: make, dtype: int64"
            ]
          },
          "metadata": {
            "tags": []
          },
          "execution_count": 33
        }
      ]
    },
    {
      "cell_type": "markdown",
      "metadata": {
        "id": "soDyFoWf742O"
      },
      "source": [
        "**Someone purchased a car for 7099, what is the make of the car?**"
      ]
    },
    {
      "cell_type": "code",
      "metadata": {
        "id": "X6lrqVpq742O",
        "outputId": "64ce0c5c-4232-4bcf-c93d-38d30aff443d",
        "colab": {
          "base_uri": "https://localhost:8080/"
        }
      },
      "source": [
        "auto[auto['price']==7099]['make']"
      ],
      "execution_count": 34,
      "outputs": [
        {
          "output_type": "execute_result",
          "data": {
            "text/plain": [
              "87    nissan\n",
              "Name: make, dtype: object"
            ]
          },
          "metadata": {
            "tags": []
          },
          "execution_count": 34
        }
      ]
    },
    {
      "cell_type": "markdown",
      "metadata": {
        "id": "Dm97KFVj742T"
      },
      "source": [
        "**Which cars are priced greater than 40000?**"
      ]
    },
    {
      "cell_type": "code",
      "metadata": {
        "id": "KDsWpiuy742T",
        "outputId": "0f179fea-9e70-4371-a148-cf420b9d8f2b",
        "colab": {
          "base_uri": "https://localhost:8080/"
        }
      },
      "source": [
        "auto[auto['price']>40000]['make'].unique()"
      ],
      "execution_count": 36,
      "outputs": [
        {
          "output_type": "execute_result",
          "data": {
            "text/plain": [
              "array(['bmw', 'mercedes-benz'], dtype=object)"
            ]
          },
          "metadata": {
            "tags": []
          },
          "execution_count": 36
        }
      ]
    },
    {
      "cell_type": "markdown",
      "metadata": {
        "id": "NNEkkEPY742X"
      },
      "source": [
        "**Which are the cars that are both a sedan and priced less than 7000?**"
      ]
    },
    {
      "cell_type": "code",
      "metadata": {
        "id": "XQ66ellN742X",
        "outputId": "c2e04298-24cf-40e5-b7ca-e95f9e8b35f3",
        "colab": {
          "base_uri": "https://localhost:8080/"
        }
      },
      "source": [
        "auto[(auto['price']<7000) & (auto['body_style']=='sedan')]['make'].unique()"
      ],
      "execution_count": 43,
      "outputs": [
        {
          "output_type": "execute_result",
          "data": {
            "text/plain": [
              "array(['chevrolet', 'dodge', 'isuzu', 'mazda', 'mitsubishi', 'nissan',\n",
              "       'plymouth', 'toyota'], dtype=object)"
            ]
          },
          "metadata": {
            "tags": []
          },
          "execution_count": 43
        }
      ]
    },
    {
      "cell_type": "markdown",
      "metadata": {
        "id": "lUpH8N1Y742a"
      },
      "source": [
        "### The END"
      ]
    }
  ]
}